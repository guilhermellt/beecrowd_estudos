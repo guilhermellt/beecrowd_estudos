{
 "cells": [
  {
   "cell_type": "markdown",
   "metadata": {},
   "source": [
    "# Exercícios Beecrowd"
   ]
  },
  {
   "cell_type": "code",
   "execution_count": 56,
   "metadata": {},
   "outputs": [
    {
     "name": "stdout",
     "output_type": "stream",
     "text": [
      "1:0:0\n"
     ]
    }
   ],
   "source": [
    "N = int(input())\n",
    "hora =  (N//60)//60\n",
    "N = N - (hora*60)*60\n",
    "minuto = (N//60)\n",
    "N = N - (minuto*60)\n",
    "seg = minuto*60+(hora*60)*60\n",
    "N = N - seg\n",
    "segundo = seg + N\n",
    "print(f'{hora}:{minuto}:{segundo}')"
   ]
  },
  {
   "cell_type": "code",
   "execution_count": 59,
   "metadata": {},
   "outputs": [
    {
     "name": "stdout",
     "output_type": "stream",
     "text": [
      "0 ano(s)\n",
      "1 mes(es)\n",
      "0 dia(s)\n"
     ]
    }
   ],
   "source": [
    "i = int(input())\n",
    "ano = 365\n",
    "mes = 30\n",
    "anos = i//ano\n",
    "i = i - (anos*ano)\n",
    "meses = i//mes\n",
    "i = i - (meses*mes)\n",
    "dias = i\n",
    "print(f'{anos} ano(s)\\n{meses} mes(es)\\n{dias} dia(s)')"
   ]
  },
  {
   "cell_type": "code",
   "execution_count": 4,
   "metadata": {},
   "outputs": [
    {
     "name": "stdout",
     "output_type": "stream",
     "text": [
      "NOTAS:\n",
      "5 nota(s) de R$ 100.00\n",
      "1 nota(s) de R$ 50.00\n",
      "1 nota(s) de R$ 20.00\n",
      "0 nota(s) de R$ 10.00\n",
      "1 nota(s) de R$ 5.00\n",
      "0 nota(s) de R$ 2.00\n",
      "MOEDAS:\n",
      "1 moeda(s) de R$ 1.00\n",
      "1 moeda(s) de R$ 0.50\n",
      "0 moeda(s) de R$ 0.25\n",
      "2 moeda(s) de R$ 0.10\n",
      "0 moeda(s) de R$ 0.05\n",
      "3 moeda(s) de R$ 0.01\n"
     ]
    }
   ],
   "source": [
    "#beecrowd | 1021 Notas e Moedas\n",
    "reais,centavos = map(int,input().split('.'))\n",
    "centavos = centavos + reais*100\n",
    "notas = [100,50,20,10,5,2]\n",
    "print('NOTAS:')\n",
    "for nota in notas:\n",
    "    print(f'{centavos//(nota*100)} nota(s) de R$ {nota}.00')\n",
    "    centavos = centavos%(nota*100)\n",
    "print('MOEDAS:')\n",
    "moedas = [100,50,25,10,5,1]\n",
    "for moeda in moedas:\n",
    "    print(f'{centavos//moeda} moeda(s) de R$ {moeda//100}.{moeda%100:02}')\n",
    "    centavos = centavos%moeda"
   ]
  },
  {
   "cell_type": "code",
   "execution_count": 12,
   "metadata": {},
   "outputs": [
    {
     "name": "stdout",
     "output_type": "stream",
     "text": [
      "Valores nao aceitos\n"
     ]
    }
   ],
   "source": [
    "x = input().split()\n",
    "a, b, c, d = x\n",
    "a = int(a)\n",
    "b = int(b)\n",
    "c = int(c)\n",
    "d = int(d)\n",
    "if b > c and d > a and ((c+d)>(a+b)) and c > 0 and d > 0 and a % 2 == 0:\n",
    "     print('Valores aceitos')\n",
    "else:\n",
    "    print('Valores nao aceitos')"
   ]
  },
  {
   "cell_type": "code",
   "execution_count": 8,
   "metadata": {},
   "outputs": [
    {
     "name": "stdout",
     "output_type": "stream",
     "text": [
      "R1 = -0.02466\n",
      "R2 = -19.68408\n"
     ]
    }
   ],
   "source": [
    "import math\n",
    "a,b,c = [float(x) for x in input().strip().split(' ')]\n",
    "delta = b * b - 4 * a * c\n",
    "if (a != 0 and delta > -1):\n",
    "    R1 = (-b + math.sqrt(delta))/(2*a) \n",
    "    R2 = (-b - math.sqrt(delta))/(2*a) \n",
    "    print(f'R1 = {R1:.5f}')\n",
    "    print(f'R2 = {R2:.5f}')\n",
    "else:\n",
    "    print('Impossivel calcular')"
   ]
  },
  {
   "cell_type": "code",
   "execution_count": 8,
   "metadata": {},
   "outputs": [
    {
     "name": "stdout",
     "output_type": "stream",
     "text": [
      "Fora de Intervalo\n"
     ]
    }
   ],
   "source": [
    "# beecrowd | 1037 Intervalo\n",
    "x = float(input())\n",
    "if 0<=x<=25:\n",
    "    print('Intervalo [0,25]')\n",
    "elif 25<x<=50:\n",
    "    print('Intervalo (25,50]')\n",
    "elif 50<x<=75:\n",
    "    print('Intervalo (50,75]')\n",
    "elif 75<x<=100:\n",
    "    print('Intervalo (75,100]')\n",
    "else: \n",
    "    print('Fora de intervalo')\n"
   ]
  },
  {
   "cell_type": "code",
   "execution_count": 31,
   "metadata": {},
   "outputs": [
    {
     "name": "stdout",
     "output_type": "stream",
     "text": [
      "Total: R$ 13.50\n"
     ]
    }
   ],
   "source": [
    "# beecrowd | 1038 Lanche\n",
    "\n",
    "cod,qtd = list (map (int, input().strip().split()))\n",
    "lanches = [(4.00),(4.50),(5.00),(2.00),(1.50)]\n",
    "if cod == 1 :\n",
    "    resultado = lanches[0] * qtd\n",
    "    print(f'Total: R$ {resultado:.2f}')\n",
    "elif cod == 2:\n",
    "    resultado = lanches[1] * qtd\n",
    "    print(f'Total: R$ {resultado:.2f}')\n",
    "elif cod == 3:\n",
    "    resultado = lanches[2] * qtd\n",
    "    print(f'Total: R$ {resultado:.2f}')\n",
    "elif cod == 4:\n",
    "    resultado = lanches[3] * qtd\n",
    "    print(f'Total: R$ {resultado:.2f}')\n",
    "elif cod == 5:\n",
    "    resultado = lanches[4] * qtd\n",
    "    print(f'Total: R$ {resultado:.2f}')\n",
    "\n"
   ]
  },
  {
   "cell_type": "code",
   "execution_count": 58,
   "metadata": {},
   "outputs": [
    {
     "name": "stdout",
     "output_type": "stream",
     "text": [
      "Media: 5.4\n",
      "Aluno em exame.\n",
      "Nota do exame: 6.4\n",
      "Aluno aprovado.\n",
      "Media final: 5.9\n"
     ]
    }
   ],
   "source": [
    "#beecrowd | 1040 Média 3\n",
    "\n",
    "n1,n2,n3,n4 = list(map(float,input().strip().split(\" \")))\n",
    "#peso = [2,3,4,1]\n",
    "media = (2*n1 + 3*n2 + 4*n3 + 1*n4)/(2+3+4+1)\n",
    "if media >= 7.0:\n",
    "    print(f'Media: {media:.1f}')\n",
    "    print('Aluno aprovado.')\n",
    "elif media < 5.0:\n",
    "    print(f'Media: {media:.1f}')\n",
    "    print('Aluno reprovado.')\n",
    "elif 5.0 <= media <= 6.9:\n",
    "    print(f'Media: {media:.1f}')\n",
    "    print('Aluno em exame.')\n",
    "    ne = float(input())\n",
    "    print(f'Nota do exame: {ne:.1f}')\n",
    "    mediafinal = (ne + media)/2\n",
    "    if mediafinal >= 5.0:\n",
    "        print('Aluno aprovado.')\n",
    "        print(f'Media final: {mediafinal:.1f}')\n",
    "    elif mediafinal <= 4.9:\n",
    "        print('Aluno reprovado.')\n",
    "        print(f'Media final: {mediafinal:.1f}')\n",
    "\n",
    "        "
   ]
  },
  {
   "cell_type": "code",
   "execution_count": 74,
   "metadata": {},
   "outputs": [
    {
     "name": "stdout",
     "output_type": "stream",
     "text": [
      "Eixo Y\n"
     ]
    }
   ],
   "source": [
    "#beecrowd | 1041 Coordenadas de um Ponto\n",
    "x,y = list(map(float,input().split()))\n",
    "\n",
    "if x == 0 and y == 0:\n",
    "    print('Origem')\n",
    "if x == 0 and y != 0:\n",
    "    print('Eixo Y')\n",
    "elif y == 0 and x != 0:\n",
    "    print('Eixo X')\n",
    "if x > 0 and y > 0 :\n",
    "    print('Q1')\n",
    "elif x < 0 and y > 0:\n",
    "    print('Q2') \n",
    "elif x < 0 and y < 0 :\n",
    "    print('Q3')\n",
    "elif x > 0 and y < 0 :\n",
    "    print('Q4')\n"
   ]
  },
  {
   "cell_type": "code",
   "execution_count": 109,
   "metadata": {},
   "outputs": [
    {
     "name": "stdout",
     "output_type": "stream",
     "text": [
      "-14\n",
      "7\n",
      "21\n",
      "\n",
      "7\n",
      "21\n",
      "-14\n"
     ]
    }
   ],
   "source": [
    "#1042 - Sort Simples\n",
    "\n",
    "lista = list(map(int, input().strip().split()))\n",
    "for v in sorted(lista):\n",
    "    print(v)\n",
    "print()\n",
    "for v in lista:\n",
    "    print(v)"
   ]
  },
  {
   "cell_type": "code",
   "execution_count": 3,
   "metadata": {},
   "outputs": [
    {
     "name": "stdout",
     "output_type": "stream",
     "text": [
      "Perimetro = 12.1\n"
     ]
    }
   ],
   "source": [
    "#beecrowd | 1043 Triângulo\n",
    "a,b,c = map(float,input().strip().split())\n",
    "\n",
    "if abs(b-c) < a < (b+c) and (a-c) <b<(a+c) and (a-b) < c < (a+b):\n",
    "    print(f'Perimetro = {(a+b+c):.1f}')\n",
    "else:\n",
    "    print(f'Area = {((a+b)/2*c):.1f}')"
   ]
  },
  {
   "cell_type": "code",
   "execution_count": 12,
   "metadata": {},
   "outputs": [
    {
     "name": "stdout",
     "output_type": "stream",
     "text": [
      "Nao sao Multiplos\n"
     ]
    }
   ],
   "source": [
    "#beecrowd | 1044 Múltiplos\n",
    "a,b = map(int,input().strip().split(\" \"))\n",
    "if a > b :\n",
    "    if a % b == 0:\n",
    "        print('Sao Multiplos')\n",
    "    else:\n",
    "        print('Nao sao Multiplos')\n",
    "if b > a :\n",
    "    if b % a == 0:\n",
    "        print('Sao Multiplos')\n",
    "    else:\n",
    "        print('Nao sao Multiplos')\n",
    "if a == b:\n",
    "    print('Sao Multiplos')"
   ]
  },
  {
   "cell_type": "code",
   "execution_count": 16,
   "metadata": {},
   "outputs": [
    {
     "name": "stdout",
     "output_type": "stream",
     "text": [
      "TRIANGULO OBTUSANGULO\n",
      "TRIANGULO ISOSCELES\n"
     ]
    }
   ],
   "source": [
    "#beecrowd | 1045 Tipos de Triângulos python\n",
    "\n",
    "a,b,c = map(float,input().strip().split(\" \"))\n",
    "if a>=b and a>=c:\n",
    "    n1 = a\n",
    "    if b >= c:\n",
    "        n2 = b\n",
    "        n3 = c\n",
    "    else:\n",
    "        n2 = c\n",
    "        n3 = b\n",
    "if b>=a and b>=c:\n",
    "    n1=b\n",
    "    if a>=c:\n",
    "        n2 = a\n",
    "        n3 = c\n",
    "    else:\n",
    "        n2=c\n",
    "        n3=a\n",
    "if c>=a and c>=b:\n",
    "    n1=c\n",
    "    if a>=b:\n",
    "        n2=a\n",
    "        n3=b\n",
    "    else:\n",
    "        n2=b\n",
    "        n3=a\n",
    "if a == b and b == c:\n",
    "\n",
    "    n1 = a\n",
    "    n2 = b\n",
    "    n3 = c\n",
    "\n",
    "a = n1\n",
    "b = n2\n",
    "c = n3\n",
    "\n",
    "if a >= (b + c):\n",
    "    print('NAO FORMA TRIANGULO')\n",
    "else:\n",
    "    if (a ** 2) == (b ** 2 + c ** 2):\n",
    "        print('TRIANGULO RETANGULO')\n",
    "    if (a ** 2) > (b ** 2 + c ** 2):\n",
    "        print('TRIANGULO OBTUSANGULO')\n",
    "    if (a ** 2) < (b ** 2 + c ** 2):\n",
    "        print('TRIANGULO ACUTANGULO')\n",
    "    if (a == b == c):\n",
    "        print('TRIANGULO EQUILATERO')\n",
    "    if a == b != c or b == c != a or a == c != b:\n",
    "        print('TRIANGULO ISOSCELES')"
   ]
  },
  {
   "cell_type": "code",
   "execution_count": 6,
   "metadata": {},
   "outputs": [
    {
     "name": "stdout",
     "output_type": "stream",
     "text": [
      "O JOGO DUROU 14 HORA(S)\n"
     ]
    }
   ],
   "source": [
    "#beecrowd | 1046 Tempo de Jogo\n",
    "i,f = map(int,input().strip().split(\" \"))\n",
    "if i > f:\n",
    "    a = 24 - i \n",
    "    h = a + f\n",
    "    print(f'O JOGO DUROU {h} HORA(S)')\n",
    "elif f > i:\n",
    "    h = f - i\n",
    "    print(f'O JOGO DUROU {h} HORA(S)')\n",
    "elif i == f:\n",
    "    h = 24\n",
    "    print(f'O JOGO DUROU {h} HORA(S)')  "
   ]
  },
  {
   "cell_type": "code",
   "execution_count": 7,
   "metadata": {},
   "outputs": [
    {
     "name": "stdout",
     "output_type": "stream",
     "text": [
      "O JOGO DUROU 6 HORA(S) E 0 MINUTO(S)\n"
     ]
    }
   ],
   "source": [
    "#beecrowd | 1047 Tempo de Jogo com Minutos\n",
    "hi,mi,hf,mf = map(int,input().strip().split(\" \"))\n",
    "if hi<hf:\n",
    "   hora = hf - hi\n",
    "   if mi<mf:\n",
    "      minuto = mf - mi\n",
    "   if mi > mf:\n",
    "      hora = hora - 1\n",
    "      minuto = (60-mi)+mf\n",
    "   if mi == mf:\n",
    "      minuto = 0\n",
    "if hi > hf:\n",
    "   hora = (24-hi)+hf\n",
    "   if mi < mf:\n",
    "      minuto = mf - mi\n",
    "   if mi > mf:\n",
    "      hora = hora - 1\n",
    "      minuto = (60-mi)+mf\n",
    "   if mi == mf:\n",
    "      minuto = 0\n",
    "if hi == hf:\n",
    "   if mi < mf:\n",
    "      minuto = mf - mi\n",
    "      hora = 0\n",
    "   if mi > mf:\n",
    "      minuto = (60-mi)+mf\n",
    "      hora = 23\n",
    "   if mi == mf:\n",
    "      hora = 24\n",
    "      minuto = 0\n",
    "print(f'O JOGO DUROU {hora} HORA(S) E {minuto} MINUTO(S)')"
   ]
  },
  {
   "cell_type": "code",
   "execution_count": 44,
   "metadata": {},
   "outputs": [
    {
     "name": "stdout",
     "output_type": "stream",
     "text": [
      "Novo salario: 2140.00\n",
      "Reajuste ganho: 140.00\n",
      "Em percentual: 7 %\n"
     ]
    }
   ],
   "source": [
    "#URI Online Judge | 1048 Aumento de Salário\n",
    "salario = float(input())\n",
    "\n",
    "if salario >= 400.00:\n",
    "    pcent = 15\n",
    "    reajuste = salario * 0.15\n",
    "    novo = reajuste+salario\n",
    "\n",
    "if 400.01 <= salario <= 800.00:\n",
    "    pcent = 12\n",
    "    reajuste =salario * 0.12\n",
    "    novo = reajuste+salario\n",
    "\n",
    "if 800.01 <= salario <= 1200.00:\n",
    "    pcent = 10\n",
    "    reajuste =salario * 0.10\n",
    "    novo = reajuste+salario\n",
    "\n",
    "if 1200.01 <= salario <= 2000.00:\n",
    "    pcent = 7\n",
    "    reajuste = salario * 0.07\n",
    "    novo = reajuste+salario\n",
    "\n",
    "if  salario > 2000.00:\n",
    "    pcent = 4\n",
    "    reajuste =salario * 0.04\n",
    "    novo = reajuste+salario\n",
    "print(f'Novo salario: {novo:.2f}')\n",
    "print(f'Reajuste ganho: {reajuste:.2f}')\n",
    "print(f'Em percentual: {pcent} %')\n",
    "\n"
   ]
  },
  {
   "cell_type": "code",
   "execution_count": 33,
   "metadata": {},
   "outputs": [
    {
     "name": "stdout",
     "output_type": "stream",
     "text": [
      "homem\n"
     ]
    }
   ],
   "source": [
    "#beecrowd | 1049 Animal\n",
    "a = str(input())\n",
    "b = str(input())\n",
    "c = str(input())\n",
    "if a == ('vertebrado'):\n",
    "    if b == ('ave'):\n",
    "        if c == ('carnivoro'):\n",
    "            print('aguia')\n",
    "        elif c == ('onivoro'):\n",
    "            print('pomba')\n",
    "    elif b == ('mamifero'):\n",
    "        if c == ('onivoro'):\n",
    "            print('homem')\n",
    "        elif c == ('herbivoro'):\n",
    "            print('vaca')\n",
    "elif a == ('invertebrado'):\n",
    "    if b == ('inseto'):\n",
    "        if c == ('hematofago'):\n",
    "            print('pulga')\n",
    "        elif c == ('herbivoro'):\n",
    "            print('lagarta')\n",
    "    elif b == ('anelideo'):\n",
    "        if c == ('hematofago'):\n",
    "            print('sanguessuga')\n",
    "        elif c == ('onivoro'):\n",
    "            print('minhoca')"
   ]
  },
  {
   "cell_type": "code",
   "execution_count": 35,
   "metadata": {},
   "outputs": [
    {
     "name": "stdout",
     "output_type": "stream",
     "text": [
      "DDD nao cadastrado\n"
     ]
    }
   ],
   "source": [
    "#beecrowd | 1050 DDD\n",
    "\n",
    "x = int(input())\n",
    "lista = [61,71,11,21,32,19,27,31]\n",
    "if x == 61:\n",
    "    print('Brasilia')\n",
    "if x ==71:\n",
    "    print('Salvador')\n",
    "if x ==11:\n",
    "    print('Sao Paulo')\n",
    "if x ==21:\n",
    "    print('Rio de Janeiro')\n",
    "if x ==32:\n",
    "    print('Juiz de Fora')\n",
    "if x ==19:\n",
    "    print('Campinas')\n",
    "if x ==27:\n",
    "    print('Vitoria')\n",
    "if x ==31:\n",
    "    print('Belo Horizonte')\n",
    "if x != 61 and  x != 71 and x != 11 and x != 21 and x != 32 and x != 19 and x != 27 and x != 31:\n",
    "    print('DDD nao cadastrado')\n"
   ]
  },
  {
   "cell_type": "code",
   "execution_count": 19,
   "metadata": {},
   "outputs": [
    {
     "name": "stdout",
     "output_type": "stream",
     "text": [
      "R$ 80.00\n"
     ]
    }
   ],
   "source": [
    "# beecrowd | 1051 Imposto de Renda\n",
    "\n",
    "renda = float(input())\n",
    "if renda <= 2000:\n",
    "    print('Isento')\n",
    "else:\n",
    "    if renda <= 3000.00:\n",
    "        imposto = (renda - 2000)* 0.08\n",
    "    elif renda <= 4500.00:\n",
    "        imposto = 1000*0.08+(renda - 3000)*0.18\n",
    "    elif renda > 4500:\n",
    "        imposto = 1000.00 *0.08 + 1500.0 * 0.18 + (renda -4500 )*0.28\n",
    "    print(f'R$ {imposto:.2f}')"
   ]
  },
  {
   "attachments": {},
   "cell_type": "markdown",
   "metadata": {},
   "source": [
    "# TESTE"
   ]
  },
  {
   "cell_type": "code",
   "execution_count": 18,
   "metadata": {},
   "outputs": [
    {
     "ename": "ConnectionError",
     "evalue": "HTTPConnectionPool(host='localhost', port=3002): Max retries exceeded with url: /api/todo?id=h7i39LVliST6r8kI (Caused by NewConnectionError('<urllib3.connection.HTTPConnection object at 0x00000245735C5D80>: Failed to establish a new connection: [WinError 10061] Nenhuma conexão pôde ser feita porque a máquina de destino as recusou ativamente'))",
     "output_type": "error",
     "traceback": [
      "\u001b[1;31m---------------------------------------------------------------------------\u001b[0m",
      "\u001b[1;31mConnectionRefusedError\u001b[0m                    Traceback (most recent call last)",
      "File \u001b[1;32mc:\\Users\\guilherme\\OneDrive\\Área de Trabalho\\GUILHERME\\PROJETOS PYTHON\\Pesquisas_Estudos\\.venv\\lib\\site-packages\\urllib3\\connection.py:174\u001b[0m, in \u001b[0;36mHTTPConnection._new_conn\u001b[1;34m(self)\u001b[0m\n\u001b[0;32m    173\u001b[0m \u001b[39mtry\u001b[39;00m:\n\u001b[1;32m--> 174\u001b[0m     conn \u001b[39m=\u001b[39m connection\u001b[39m.\u001b[39mcreate_connection(\n\u001b[0;32m    175\u001b[0m         (\u001b[39mself\u001b[39m\u001b[39m.\u001b[39m_dns_host, \u001b[39mself\u001b[39m\u001b[39m.\u001b[39mport), \u001b[39mself\u001b[39m\u001b[39m.\u001b[39mtimeout, \u001b[39m*\u001b[39m\u001b[39m*\u001b[39mextra_kw\n\u001b[0;32m    176\u001b[0m     )\n\u001b[0;32m    178\u001b[0m \u001b[39mexcept\u001b[39;00m SocketTimeout:\n",
      "File \u001b[1;32mc:\\Users\\guilherme\\OneDrive\\Área de Trabalho\\GUILHERME\\PROJETOS PYTHON\\Pesquisas_Estudos\\.venv\\lib\\site-packages\\urllib3\\util\\connection.py:95\u001b[0m, in \u001b[0;36mcreate_connection\u001b[1;34m(address, timeout, source_address, socket_options)\u001b[0m\n\u001b[0;32m     94\u001b[0m \u001b[39mif\u001b[39;00m err \u001b[39mis\u001b[39;00m \u001b[39mnot\u001b[39;00m \u001b[39mNone\u001b[39;00m:\n\u001b[1;32m---> 95\u001b[0m     \u001b[39mraise\u001b[39;00m err\n\u001b[0;32m     97\u001b[0m \u001b[39mraise\u001b[39;00m socket\u001b[39m.\u001b[39merror(\u001b[39m\"\u001b[39m\u001b[39mgetaddrinfo returns an empty list\u001b[39m\u001b[39m\"\u001b[39m)\n",
      "File \u001b[1;32mc:\\Users\\guilherme\\OneDrive\\Área de Trabalho\\GUILHERME\\PROJETOS PYTHON\\Pesquisas_Estudos\\.venv\\lib\\site-packages\\urllib3\\util\\connection.py:85\u001b[0m, in \u001b[0;36mcreate_connection\u001b[1;34m(address, timeout, source_address, socket_options)\u001b[0m\n\u001b[0;32m     84\u001b[0m     sock\u001b[39m.\u001b[39mbind(source_address)\n\u001b[1;32m---> 85\u001b[0m sock\u001b[39m.\u001b[39;49mconnect(sa)\n\u001b[0;32m     86\u001b[0m \u001b[39mreturn\u001b[39;00m sock\n",
      "\u001b[1;31mConnectionRefusedError\u001b[0m: [WinError 10061] Nenhuma conexão pôde ser feita porque a máquina de destino as recusou ativamente",
      "\nDuring handling of the above exception, another exception occurred:\n",
      "\u001b[1;31mNewConnectionError\u001b[0m                        Traceback (most recent call last)",
      "File \u001b[1;32mc:\\Users\\guilherme\\OneDrive\\Área de Trabalho\\GUILHERME\\PROJETOS PYTHON\\Pesquisas_Estudos\\.venv\\lib\\site-packages\\urllib3\\connectionpool.py:703\u001b[0m, in \u001b[0;36mHTTPConnectionPool.urlopen\u001b[1;34m(self, method, url, body, headers, retries, redirect, assert_same_host, timeout, pool_timeout, release_conn, chunked, body_pos, **response_kw)\u001b[0m\n\u001b[0;32m    702\u001b[0m \u001b[39m# Make the request on the httplib connection object.\u001b[39;00m\n\u001b[1;32m--> 703\u001b[0m httplib_response \u001b[39m=\u001b[39m \u001b[39mself\u001b[39;49m\u001b[39m.\u001b[39;49m_make_request(\n\u001b[0;32m    704\u001b[0m     conn,\n\u001b[0;32m    705\u001b[0m     method,\n\u001b[0;32m    706\u001b[0m     url,\n\u001b[0;32m    707\u001b[0m     timeout\u001b[39m=\u001b[39;49mtimeout_obj,\n\u001b[0;32m    708\u001b[0m     body\u001b[39m=\u001b[39;49mbody,\n\u001b[0;32m    709\u001b[0m     headers\u001b[39m=\u001b[39;49mheaders,\n\u001b[0;32m    710\u001b[0m     chunked\u001b[39m=\u001b[39;49mchunked,\n\u001b[0;32m    711\u001b[0m )\n\u001b[0;32m    713\u001b[0m \u001b[39m# If we're going to release the connection in ``finally:``, then\u001b[39;00m\n\u001b[0;32m    714\u001b[0m \u001b[39m# the response doesn't need to know about the connection. Otherwise\u001b[39;00m\n\u001b[0;32m    715\u001b[0m \u001b[39m# it will also try to release it and we'll have a double-release\u001b[39;00m\n\u001b[0;32m    716\u001b[0m \u001b[39m# mess.\u001b[39;00m\n",
      "File \u001b[1;32mc:\\Users\\guilherme\\OneDrive\\Área de Trabalho\\GUILHERME\\PROJETOS PYTHON\\Pesquisas_Estudos\\.venv\\lib\\site-packages\\urllib3\\connectionpool.py:398\u001b[0m, in \u001b[0;36mHTTPConnectionPool._make_request\u001b[1;34m(self, conn, method, url, timeout, chunked, **httplib_request_kw)\u001b[0m\n\u001b[0;32m    397\u001b[0m     \u001b[39melse\u001b[39;00m:\n\u001b[1;32m--> 398\u001b[0m         conn\u001b[39m.\u001b[39mrequest(method, url, \u001b[39m*\u001b[39m\u001b[39m*\u001b[39mhttplib_request_kw)\n\u001b[0;32m    400\u001b[0m \u001b[39m# We are swallowing BrokenPipeError (errno.EPIPE) since the server is\u001b[39;00m\n\u001b[0;32m    401\u001b[0m \u001b[39m# legitimately able to close the connection after sending a valid response.\u001b[39;00m\n\u001b[0;32m    402\u001b[0m \u001b[39m# With this behaviour, the received response is still readable.\u001b[39;00m\n",
      "File \u001b[1;32mc:\\Users\\guilherme\\OneDrive\\Área de Trabalho\\GUILHERME\\PROJETOS PYTHON\\Pesquisas_Estudos\\.venv\\lib\\site-packages\\urllib3\\connection.py:239\u001b[0m, in \u001b[0;36mHTTPConnection.request\u001b[1;34m(self, method, url, body, headers)\u001b[0m\n\u001b[0;32m    238\u001b[0m     headers[\u001b[39m\"\u001b[39m\u001b[39mUser-Agent\u001b[39m\u001b[39m\"\u001b[39m] \u001b[39m=\u001b[39m _get_default_user_agent()\n\u001b[1;32m--> 239\u001b[0m \u001b[39msuper\u001b[39;49m(HTTPConnection, \u001b[39mself\u001b[39;49m)\u001b[39m.\u001b[39;49mrequest(method, url, body\u001b[39m=\u001b[39;49mbody, headers\u001b[39m=\u001b[39;49mheaders)\n",
      "File \u001b[1;32m~\\AppData\\Local\\Programs\\Python\\Python310\\lib\\http\\client.py:1282\u001b[0m, in \u001b[0;36mHTTPConnection.request\u001b[1;34m(self, method, url, body, headers, encode_chunked)\u001b[0m\n\u001b[0;32m   1281\u001b[0m \u001b[39m\"\"\"Send a complete request to the server.\"\"\"\u001b[39;00m\n\u001b[1;32m-> 1282\u001b[0m \u001b[39mself\u001b[39;49m\u001b[39m.\u001b[39;49m_send_request(method, url, body, headers, encode_chunked)\n",
      "File \u001b[1;32m~\\AppData\\Local\\Programs\\Python\\Python310\\lib\\http\\client.py:1328\u001b[0m, in \u001b[0;36mHTTPConnection._send_request\u001b[1;34m(self, method, url, body, headers, encode_chunked)\u001b[0m\n\u001b[0;32m   1327\u001b[0m     body \u001b[39m=\u001b[39m _encode(body, \u001b[39m'\u001b[39m\u001b[39mbody\u001b[39m\u001b[39m'\u001b[39m)\n\u001b[1;32m-> 1328\u001b[0m \u001b[39mself\u001b[39;49m\u001b[39m.\u001b[39;49mendheaders(body, encode_chunked\u001b[39m=\u001b[39;49mencode_chunked)\n",
      "File \u001b[1;32m~\\AppData\\Local\\Programs\\Python\\Python310\\lib\\http\\client.py:1277\u001b[0m, in \u001b[0;36mHTTPConnection.endheaders\u001b[1;34m(self, message_body, encode_chunked)\u001b[0m\n\u001b[0;32m   1276\u001b[0m     \u001b[39mraise\u001b[39;00m CannotSendHeader()\n\u001b[1;32m-> 1277\u001b[0m \u001b[39mself\u001b[39;49m\u001b[39m.\u001b[39;49m_send_output(message_body, encode_chunked\u001b[39m=\u001b[39;49mencode_chunked)\n",
      "File \u001b[1;32m~\\AppData\\Local\\Programs\\Python\\Python310\\lib\\http\\client.py:1037\u001b[0m, in \u001b[0;36mHTTPConnection._send_output\u001b[1;34m(self, message_body, encode_chunked)\u001b[0m\n\u001b[0;32m   1036\u001b[0m \u001b[39mdel\u001b[39;00m \u001b[39mself\u001b[39m\u001b[39m.\u001b[39m_buffer[:]\n\u001b[1;32m-> 1037\u001b[0m \u001b[39mself\u001b[39;49m\u001b[39m.\u001b[39;49msend(msg)\n\u001b[0;32m   1039\u001b[0m \u001b[39mif\u001b[39;00m message_body \u001b[39mis\u001b[39;00m \u001b[39mnot\u001b[39;00m \u001b[39mNone\u001b[39;00m:\n\u001b[0;32m   1040\u001b[0m \n\u001b[0;32m   1041\u001b[0m     \u001b[39m# create a consistent interface to message_body\u001b[39;00m\n",
      "File \u001b[1;32m~\\AppData\\Local\\Programs\\Python\\Python310\\lib\\http\\client.py:975\u001b[0m, in \u001b[0;36mHTTPConnection.send\u001b[1;34m(self, data)\u001b[0m\n\u001b[0;32m    974\u001b[0m \u001b[39mif\u001b[39;00m \u001b[39mself\u001b[39m\u001b[39m.\u001b[39mauto_open:\n\u001b[1;32m--> 975\u001b[0m     \u001b[39mself\u001b[39;49m\u001b[39m.\u001b[39;49mconnect()\n\u001b[0;32m    976\u001b[0m \u001b[39melse\u001b[39;00m:\n",
      "File \u001b[1;32mc:\\Users\\guilherme\\OneDrive\\Área de Trabalho\\GUILHERME\\PROJETOS PYTHON\\Pesquisas_Estudos\\.venv\\lib\\site-packages\\urllib3\\connection.py:205\u001b[0m, in \u001b[0;36mHTTPConnection.connect\u001b[1;34m(self)\u001b[0m\n\u001b[0;32m    204\u001b[0m \u001b[39mdef\u001b[39;00m \u001b[39mconnect\u001b[39m(\u001b[39mself\u001b[39m):\n\u001b[1;32m--> 205\u001b[0m     conn \u001b[39m=\u001b[39m \u001b[39mself\u001b[39;49m\u001b[39m.\u001b[39;49m_new_conn()\n\u001b[0;32m    206\u001b[0m     \u001b[39mself\u001b[39m\u001b[39m.\u001b[39m_prepare_conn(conn)\n",
      "File \u001b[1;32mc:\\Users\\guilherme\\OneDrive\\Área de Trabalho\\GUILHERME\\PROJETOS PYTHON\\Pesquisas_Estudos\\.venv\\lib\\site-packages\\urllib3\\connection.py:186\u001b[0m, in \u001b[0;36mHTTPConnection._new_conn\u001b[1;34m(self)\u001b[0m\n\u001b[0;32m    185\u001b[0m \u001b[39mexcept\u001b[39;00m SocketError \u001b[39mas\u001b[39;00m e:\n\u001b[1;32m--> 186\u001b[0m     \u001b[39mraise\u001b[39;00m NewConnectionError(\n\u001b[0;32m    187\u001b[0m         \u001b[39mself\u001b[39m, \u001b[39m\"\u001b[39m\u001b[39mFailed to establish a new connection: \u001b[39m\u001b[39m%s\u001b[39;00m\u001b[39m\"\u001b[39m \u001b[39m%\u001b[39m e\n\u001b[0;32m    188\u001b[0m     )\n\u001b[0;32m    190\u001b[0m \u001b[39mreturn\u001b[39;00m conn\n",
      "\u001b[1;31mNewConnectionError\u001b[0m: <urllib3.connection.HTTPConnection object at 0x00000245735C5D80>: Failed to establish a new connection: [WinError 10061] Nenhuma conexão pôde ser feita porque a máquina de destino as recusou ativamente",
      "\nDuring handling of the above exception, another exception occurred:\n",
      "\u001b[1;31mMaxRetryError\u001b[0m                             Traceback (most recent call last)",
      "File \u001b[1;32mc:\\Users\\guilherme\\OneDrive\\Área de Trabalho\\GUILHERME\\PROJETOS PYTHON\\Pesquisas_Estudos\\.venv\\lib\\site-packages\\requests\\adapters.py:489\u001b[0m, in \u001b[0;36mHTTPAdapter.send\u001b[1;34m(self, request, stream, timeout, verify, cert, proxies)\u001b[0m\n\u001b[0;32m    488\u001b[0m \u001b[39mif\u001b[39;00m \u001b[39mnot\u001b[39;00m chunked:\n\u001b[1;32m--> 489\u001b[0m     resp \u001b[39m=\u001b[39m conn\u001b[39m.\u001b[39;49murlopen(\n\u001b[0;32m    490\u001b[0m         method\u001b[39m=\u001b[39;49mrequest\u001b[39m.\u001b[39;49mmethod,\n\u001b[0;32m    491\u001b[0m         url\u001b[39m=\u001b[39;49murl,\n\u001b[0;32m    492\u001b[0m         body\u001b[39m=\u001b[39;49mrequest\u001b[39m.\u001b[39;49mbody,\n\u001b[0;32m    493\u001b[0m         headers\u001b[39m=\u001b[39;49mrequest\u001b[39m.\u001b[39;49mheaders,\n\u001b[0;32m    494\u001b[0m         redirect\u001b[39m=\u001b[39;49m\u001b[39mFalse\u001b[39;49;00m,\n\u001b[0;32m    495\u001b[0m         assert_same_host\u001b[39m=\u001b[39;49m\u001b[39mFalse\u001b[39;49;00m,\n\u001b[0;32m    496\u001b[0m         preload_content\u001b[39m=\u001b[39;49m\u001b[39mFalse\u001b[39;49;00m,\n\u001b[0;32m    497\u001b[0m         decode_content\u001b[39m=\u001b[39;49m\u001b[39mFalse\u001b[39;49;00m,\n\u001b[0;32m    498\u001b[0m         retries\u001b[39m=\u001b[39;49m\u001b[39mself\u001b[39;49m\u001b[39m.\u001b[39;49mmax_retries,\n\u001b[0;32m    499\u001b[0m         timeout\u001b[39m=\u001b[39;49mtimeout,\n\u001b[0;32m    500\u001b[0m     )\n\u001b[0;32m    502\u001b[0m \u001b[39m# Send the request.\u001b[39;00m\n\u001b[0;32m    503\u001b[0m \u001b[39melse\u001b[39;00m:\n",
      "File \u001b[1;32mc:\\Users\\guilherme\\OneDrive\\Área de Trabalho\\GUILHERME\\PROJETOS PYTHON\\Pesquisas_Estudos\\.venv\\lib\\site-packages\\urllib3\\connectionpool.py:787\u001b[0m, in \u001b[0;36mHTTPConnectionPool.urlopen\u001b[1;34m(self, method, url, body, headers, retries, redirect, assert_same_host, timeout, pool_timeout, release_conn, chunked, body_pos, **response_kw)\u001b[0m\n\u001b[0;32m    785\u001b[0m     e \u001b[39m=\u001b[39m ProtocolError(\u001b[39m\"\u001b[39m\u001b[39mConnection aborted.\u001b[39m\u001b[39m\"\u001b[39m, e)\n\u001b[1;32m--> 787\u001b[0m retries \u001b[39m=\u001b[39m retries\u001b[39m.\u001b[39;49mincrement(\n\u001b[0;32m    788\u001b[0m     method, url, error\u001b[39m=\u001b[39;49me, _pool\u001b[39m=\u001b[39;49m\u001b[39mself\u001b[39;49m, _stacktrace\u001b[39m=\u001b[39;49msys\u001b[39m.\u001b[39;49mexc_info()[\u001b[39m2\u001b[39;49m]\n\u001b[0;32m    789\u001b[0m )\n\u001b[0;32m    790\u001b[0m retries\u001b[39m.\u001b[39msleep()\n",
      "File \u001b[1;32mc:\\Users\\guilherme\\OneDrive\\Área de Trabalho\\GUILHERME\\PROJETOS PYTHON\\Pesquisas_Estudos\\.venv\\lib\\site-packages\\urllib3\\util\\retry.py:592\u001b[0m, in \u001b[0;36mRetry.increment\u001b[1;34m(self, method, url, response, error, _pool, _stacktrace)\u001b[0m\n\u001b[0;32m    591\u001b[0m \u001b[39mif\u001b[39;00m new_retry\u001b[39m.\u001b[39mis_exhausted():\n\u001b[1;32m--> 592\u001b[0m     \u001b[39mraise\u001b[39;00m MaxRetryError(_pool, url, error \u001b[39mor\u001b[39;00m ResponseError(cause))\n\u001b[0;32m    594\u001b[0m log\u001b[39m.\u001b[39mdebug(\u001b[39m\"\u001b[39m\u001b[39mIncremented Retry for (url=\u001b[39m\u001b[39m'\u001b[39m\u001b[39m%s\u001b[39;00m\u001b[39m'\u001b[39m\u001b[39m): \u001b[39m\u001b[39m%r\u001b[39;00m\u001b[39m\"\u001b[39m, url, new_retry)\n",
      "\u001b[1;31mMaxRetryError\u001b[0m: HTTPConnectionPool(host='localhost', port=3002): Max retries exceeded with url: /api/todo?id=h7i39LVliST6r8kI (Caused by NewConnectionError('<urllib3.connection.HTTPConnection object at 0x00000245735C5D80>: Failed to establish a new connection: [WinError 10061] Nenhuma conexão pôde ser feita porque a máquina de destino as recusou ativamente'))",
      "\nDuring handling of the above exception, another exception occurred:\n",
      "\u001b[1;31mConnectionError\u001b[0m                           Traceback (most recent call last)",
      "Cell \u001b[1;32mIn [18], line 12\u001b[0m\n\u001b[0;32m      8\u001b[0m     \u001b[39mprint\u001b[39m(todo[\u001b[39m'\u001b[39m\u001b[39mtitulo\u001b[39m\u001b[39m'\u001b[39m])\n\u001b[0;32m     10\u001b[0m \u001b[39mif\u001b[39;00m \u001b[39m__name__\u001b[39m \u001b[39m==\u001b[39m \u001b[39m'\u001b[39m\u001b[39m__main__\u001b[39m\u001b[39m'\u001b[39m:\n\u001b[0;32m     11\u001b[0m     \u001b[39m# buscar_dados()\u001b[39;00m\n\u001b[1;32m---> 12\u001b[0m     buscar_dados_id(\u001b[39m\"\u001b[39;49m\u001b[39mh7i39LVliST6r8kI\u001b[39;49m\u001b[39m\"\u001b[39;49m)\n",
      "Cell \u001b[1;32mIn [18], line 5\u001b[0m, in \u001b[0;36mbuscar_dados_id\u001b[1;34m(id)\u001b[0m\n\u001b[0;32m      4\u001b[0m \u001b[39mdef\u001b[39;00m \u001b[39mbuscar_dados_id\u001b[39m(\u001b[39mid\u001b[39m):\n\u001b[1;32m----> 5\u001b[0m     request \u001b[39m=\u001b[39m requests\u001b[39m.\u001b[39;49mget(\u001b[39mf\u001b[39;49m\u001b[39m\"\u001b[39;49m\u001b[39mhttp://localhost:3002/api/todo?id=\u001b[39;49m\u001b[39m{\u001b[39;49;00m\u001b[39mid\u001b[39;49m\u001b[39m}\u001b[39;49;00m\u001b[39m\"\u001b[39;49m)\n\u001b[0;32m      6\u001b[0m     todo \u001b[39m=\u001b[39m json\u001b[39m.\u001b[39mloads(request\u001b[39m.\u001b[39mcontent)\n\u001b[0;32m      7\u001b[0m     \u001b[39mprint\u001b[39m(todo)\n",
      "File \u001b[1;32mc:\\Users\\guilherme\\OneDrive\\Área de Trabalho\\GUILHERME\\PROJETOS PYTHON\\Pesquisas_Estudos\\.venv\\lib\\site-packages\\requests\\api.py:73\u001b[0m, in \u001b[0;36mget\u001b[1;34m(url, params, **kwargs)\u001b[0m\n\u001b[0;32m     62\u001b[0m \u001b[39mdef\u001b[39;00m \u001b[39mget\u001b[39m(url, params\u001b[39m=\u001b[39m\u001b[39mNone\u001b[39;00m, \u001b[39m*\u001b[39m\u001b[39m*\u001b[39mkwargs):\n\u001b[0;32m     63\u001b[0m     \u001b[39mr\u001b[39m\u001b[39m\"\"\"Sends a GET request.\u001b[39;00m\n\u001b[0;32m     64\u001b[0m \n\u001b[0;32m     65\u001b[0m \u001b[39m    :param url: URL for the new :class:`Request` object.\u001b[39;00m\n\u001b[1;32m   (...)\u001b[0m\n\u001b[0;32m     70\u001b[0m \u001b[39m    :rtype: requests.Response\u001b[39;00m\n\u001b[0;32m     71\u001b[0m \u001b[39m    \"\"\"\u001b[39;00m\n\u001b[1;32m---> 73\u001b[0m     \u001b[39mreturn\u001b[39;00m request(\u001b[39m\"\u001b[39m\u001b[39mget\u001b[39m\u001b[39m\"\u001b[39m, url, params\u001b[39m=\u001b[39mparams, \u001b[39m*\u001b[39m\u001b[39m*\u001b[39mkwargs)\n",
      "File \u001b[1;32mc:\\Users\\guilherme\\OneDrive\\Área de Trabalho\\GUILHERME\\PROJETOS PYTHON\\Pesquisas_Estudos\\.venv\\lib\\site-packages\\requests\\api.py:59\u001b[0m, in \u001b[0;36mrequest\u001b[1;34m(method, url, **kwargs)\u001b[0m\n\u001b[0;32m     55\u001b[0m \u001b[39m# By using the 'with' statement we are sure the session is closed, thus we\u001b[39;00m\n\u001b[0;32m     56\u001b[0m \u001b[39m# avoid leaving sockets open which can trigger a ResourceWarning in some\u001b[39;00m\n\u001b[0;32m     57\u001b[0m \u001b[39m# cases, and look like a memory leak in others.\u001b[39;00m\n\u001b[0;32m     58\u001b[0m \u001b[39mwith\u001b[39;00m sessions\u001b[39m.\u001b[39mSession() \u001b[39mas\u001b[39;00m session:\n\u001b[1;32m---> 59\u001b[0m     \u001b[39mreturn\u001b[39;00m session\u001b[39m.\u001b[39mrequest(method\u001b[39m=\u001b[39mmethod, url\u001b[39m=\u001b[39murl, \u001b[39m*\u001b[39m\u001b[39m*\u001b[39mkwargs)\n",
      "File \u001b[1;32mc:\\Users\\guilherme\\OneDrive\\Área de Trabalho\\GUILHERME\\PROJETOS PYTHON\\Pesquisas_Estudos\\.venv\\lib\\site-packages\\requests\\sessions.py:587\u001b[0m, in \u001b[0;36mSession.request\u001b[1;34m(self, method, url, params, data, headers, cookies, files, auth, timeout, allow_redirects, proxies, hooks, stream, verify, cert, json)\u001b[0m\n\u001b[0;32m    582\u001b[0m send_kwargs \u001b[39m=\u001b[39m {\n\u001b[0;32m    583\u001b[0m     \u001b[39m\"\u001b[39m\u001b[39mtimeout\u001b[39m\u001b[39m\"\u001b[39m: timeout,\n\u001b[0;32m    584\u001b[0m     \u001b[39m\"\u001b[39m\u001b[39mallow_redirects\u001b[39m\u001b[39m\"\u001b[39m: allow_redirects,\n\u001b[0;32m    585\u001b[0m }\n\u001b[0;32m    586\u001b[0m send_kwargs\u001b[39m.\u001b[39mupdate(settings)\n\u001b[1;32m--> 587\u001b[0m resp \u001b[39m=\u001b[39m \u001b[39mself\u001b[39m\u001b[39m.\u001b[39msend(prep, \u001b[39m*\u001b[39m\u001b[39m*\u001b[39msend_kwargs)\n\u001b[0;32m    589\u001b[0m \u001b[39mreturn\u001b[39;00m resp\n",
      "File \u001b[1;32mc:\\Users\\guilherme\\OneDrive\\Área de Trabalho\\GUILHERME\\PROJETOS PYTHON\\Pesquisas_Estudos\\.venv\\lib\\site-packages\\requests\\sessions.py:701\u001b[0m, in \u001b[0;36mSession.send\u001b[1;34m(self, request, **kwargs)\u001b[0m\n\u001b[0;32m    698\u001b[0m start \u001b[39m=\u001b[39m preferred_clock()\n\u001b[0;32m    700\u001b[0m \u001b[39m# Send the request\u001b[39;00m\n\u001b[1;32m--> 701\u001b[0m r \u001b[39m=\u001b[39m adapter\u001b[39m.\u001b[39msend(request, \u001b[39m*\u001b[39m\u001b[39m*\u001b[39mkwargs)\n\u001b[0;32m    703\u001b[0m \u001b[39m# Total elapsed time of the request (approximately)\u001b[39;00m\n\u001b[0;32m    704\u001b[0m elapsed \u001b[39m=\u001b[39m preferred_clock() \u001b[39m-\u001b[39m start\n",
      "File \u001b[1;32mc:\\Users\\guilherme\\OneDrive\\Área de Trabalho\\GUILHERME\\PROJETOS PYTHON\\Pesquisas_Estudos\\.venv\\lib\\site-packages\\requests\\adapters.py:565\u001b[0m, in \u001b[0;36mHTTPAdapter.send\u001b[1;34m(self, request, stream, timeout, verify, cert, proxies)\u001b[0m\n\u001b[0;32m    561\u001b[0m     \u001b[39mif\u001b[39;00m \u001b[39misinstance\u001b[39m(e\u001b[39m.\u001b[39mreason, _SSLError):\n\u001b[0;32m    562\u001b[0m         \u001b[39m# This branch is for urllib3 v1.22 and later.\u001b[39;00m\n\u001b[0;32m    563\u001b[0m         \u001b[39mraise\u001b[39;00m SSLError(e, request\u001b[39m=\u001b[39mrequest)\n\u001b[1;32m--> 565\u001b[0m     \u001b[39mraise\u001b[39;00m \u001b[39mConnectionError\u001b[39;00m(e, request\u001b[39m=\u001b[39mrequest)\n\u001b[0;32m    567\u001b[0m \u001b[39mexcept\u001b[39;00m ClosedPoolError \u001b[39mas\u001b[39;00m e:\n\u001b[0;32m    568\u001b[0m     \u001b[39mraise\u001b[39;00m \u001b[39mConnectionError\u001b[39;00m(e, request\u001b[39m=\u001b[39mrequest)\n",
      "\u001b[1;31mConnectionError\u001b[0m: HTTPConnectionPool(host='localhost', port=3002): Max retries exceeded with url: /api/todo?id=h7i39LVliST6r8kI (Caused by NewConnectionError('<urllib3.connection.HTTPConnection object at 0x00000245735C5D80>: Failed to establish a new connection: [WinError 10061] Nenhuma conexão pôde ser feita porque a máquina de destino as recusou ativamente'))"
     ]
    }
   ],
   "source": [
    "import requests\n",
    "import json\n",
    "\n",
    "def buscar_dados_id(id):\n",
    "    request = requests.get(f\"http://localhost:3002/api/todo?id={id}\")\n",
    "    todo = json.loads(request.content)\n",
    "    print(todo)\n",
    "    print(todo['titulo'])\n",
    "\n",
    "if __name__ == '__main__':\n",
    "    # buscar_dados()\n",
    "    buscar_dados_id(\"h7i39LVliST6r8kI\")\n"
   ]
  }
 ],
 "metadata": {
  "kernelspec": {
   "display_name": "Python 3.10.7 ('.venv': venv)",
   "language": "python",
   "name": "python3"
  },
  "language_info": {
   "codemirror_mode": {
    "name": "ipython",
    "version": 3
   },
   "file_extension": ".py",
   "mimetype": "text/x-python",
   "name": "python",
   "nbconvert_exporter": "python",
   "pygments_lexer": "ipython3",
   "version": "3.10.7"
  },
  "orig_nbformat": 4,
  "vscode": {
   "interpreter": {
    "hash": "f78d38f97fb59a8d2023d55adb2de6ec8961d438de8522c6f0b877b8bbbd6bc7"
   }
  }
 },
 "nbformat": 4,
 "nbformat_minor": 2
}
