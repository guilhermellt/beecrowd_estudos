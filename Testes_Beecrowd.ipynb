{
 "cells": [
  {
   "cell_type": "markdown",
   "metadata": {},
   "source": [
    "# Exercícios Beecrowd"
   ]
  },
  {
   "cell_type": "code",
   "execution_count": 56,
   "metadata": {},
   "outputs": [
    {
     "name": "stdout",
     "output_type": "stream",
     "text": [
      "1:0:0\n"
     ]
    }
   ],
   "source": [
    "N = int(input())\n",
    "hora =  (N//60)//60\n",
    "N = N - (hora*60)*60\n",
    "minuto = (N//60)\n",
    "N = N - (minuto*60)\n",
    "seg = minuto*60+(hora*60)*60\n",
    "N = N - seg\n",
    "segundo = seg + N\n",
    "print(f'{hora}:{minuto}:{segundo}')"
   ]
  },
  {
   "cell_type": "code",
   "execution_count": 59,
   "metadata": {},
   "outputs": [
    {
     "name": "stdout",
     "output_type": "stream",
     "text": [
      "0 ano(s)\n",
      "1 mes(es)\n",
      "0 dia(s)\n"
     ]
    }
   ],
   "source": [
    "i = int(input())\n",
    "ano = 365\n",
    "mes = 30\n",
    "anos = i//ano\n",
    "i = i - (anos*ano)\n",
    "meses = i//mes\n",
    "i = i - (meses*mes)\n",
    "dias = i\n",
    "print(f'{anos} ano(s)\\n{meses} mes(es)\\n{dias} dia(s)')"
   ]
  },
  {
   "cell_type": "code",
   "execution_count": 4,
   "metadata": {},
   "outputs": [
    {
     "name": "stdout",
     "output_type": "stream",
     "text": [
      "NOTAS:\n",
      "5 nota(s) de R$ 100.00\n",
      "1 nota(s) de R$ 50.00\n",
      "1 nota(s) de R$ 20.00\n",
      "0 nota(s) de R$ 10.00\n",
      "1 nota(s) de R$ 5.00\n",
      "0 nota(s) de R$ 2.00\n",
      "MOEDAS:\n",
      "1 moeda(s) de R$ 1.00\n",
      "1 moeda(s) de R$ 0.50\n",
      "0 moeda(s) de R$ 0.25\n",
      "2 moeda(s) de R$ 0.10\n",
      "0 moeda(s) de R$ 0.05\n",
      "3 moeda(s) de R$ 0.01\n"
     ]
    }
   ],
   "source": [
    "#beecrowd | 1021 Notas e Moedas\n",
    "reais,centavos = map(int,input().split('.'))\n",
    "centavos = centavos + reais*100\n",
    "notas = [100,50,20,10,5,2]\n",
    "print('NOTAS:')\n",
    "for nota in notas:\n",
    "    print(f'{centavos//(nota*100)} nota(s) de R$ {nota}.00')\n",
    "    centavos = centavos%(nota*100)\n",
    "print('MOEDAS:')\n",
    "moedas = [100,50,25,10,5,1]\n",
    "for moeda in moedas:\n",
    "    print(f'{centavos//moeda} moeda(s) de R$ {moeda//100}.{moeda%100:02}')\n",
    "    centavos = centavos%moeda"
   ]
  },
  {
   "cell_type": "code",
   "execution_count": 12,
   "metadata": {},
   "outputs": [
    {
     "name": "stdout",
     "output_type": "stream",
     "text": [
      "Valores nao aceitos\n"
     ]
    }
   ],
   "source": [
    "x = input().split()\n",
    "a, b, c, d = x\n",
    "a = int(a)\n",
    "b = int(b)\n",
    "c = int(c)\n",
    "d = int(d)\n",
    "if b > c and d > a and ((c+d)>(a+b)) and c > 0 and d > 0 and a % 2 == 0:\n",
    "     print('Valores aceitos')\n",
    "else:\n",
    "    print('Valores nao aceitos')"
   ]
  },
  {
   "cell_type": "code",
   "execution_count": 8,
   "metadata": {},
   "outputs": [
    {
     "name": "stdout",
     "output_type": "stream",
     "text": [
      "R1 = -0.02466\n",
      "R2 = -19.68408\n"
     ]
    }
   ],
   "source": [
    "import math\n",
    "a,b,c = [float(x) for x in input().strip().split(' ')]\n",
    "delta = b * b - 4 * a * c\n",
    "if (a != 0 and delta > -1):\n",
    "    R1 = (-b + math.sqrt(delta))/(2*a) \n",
    "    R2 = (-b - math.sqrt(delta))/(2*a) \n",
    "    print(f'R1 = {R1:.5f}')\n",
    "    print(f'R2 = {R2:.5f}')\n",
    "else:\n",
    "    print('Impossivel calcular')"
   ]
  },
  {
   "cell_type": "code",
   "execution_count": 8,
   "metadata": {},
   "outputs": [
    {
     "name": "stdout",
     "output_type": "stream",
     "text": [
      "Fora de Intervalo\n"
     ]
    }
   ],
   "source": [
    "# beecrowd | 1037 Intervalo\n",
    "x = float(input())\n",
    "if 0<=x<=25:\n",
    "    print('Intervalo [0,25]')\n",
    "elif 25<x<=50:\n",
    "    print('Intervalo (25,50]')\n",
    "elif 50<x<=75:\n",
    "    print('Intervalo (50,75]')\n",
    "elif 75<x<=100:\n",
    "    print('Intervalo (75,100]')\n",
    "else: \n",
    "    print('Fora de intervalo')\n"
   ]
  },
  {
   "cell_type": "code",
   "execution_count": 31,
   "metadata": {},
   "outputs": [
    {
     "name": "stdout",
     "output_type": "stream",
     "text": [
      "Total: R$ 13.50\n"
     ]
    }
   ],
   "source": [
    "# beecrowd | 1038 Lanche\n",
    "\n",
    "cod,qtd = list (map (int, input().strip().split()))\n",
    "lanches = [(4.00),(4.50),(5.00),(2.00),(1.50)]\n",
    "if cod == 1 :\n",
    "    resultado = lanches[0] * qtd\n",
    "    print(f'Total: R$ {resultado:.2f}')\n",
    "elif cod == 2:\n",
    "    resultado = lanches[1] * qtd\n",
    "    print(f'Total: R$ {resultado:.2f}')\n",
    "elif cod == 3:\n",
    "    resultado = lanches[2] * qtd\n",
    "    print(f'Total: R$ {resultado:.2f}')\n",
    "elif cod == 4:\n",
    "    resultado = lanches[3] * qtd\n",
    "    print(f'Total: R$ {resultado:.2f}')\n",
    "elif cod == 5:\n",
    "    resultado = lanches[4] * qtd\n",
    "    print(f'Total: R$ {resultado:.2f}')\n",
    "\n"
   ]
  },
  {
   "cell_type": "code",
   "execution_count": 58,
   "metadata": {},
   "outputs": [
    {
     "name": "stdout",
     "output_type": "stream",
     "text": [
      "Media: 5.4\n",
      "Aluno em exame.\n",
      "Nota do exame: 6.4\n",
      "Aluno aprovado.\n",
      "Media final: 5.9\n"
     ]
    }
   ],
   "source": [
    "#beecrowd | 1040 Média 3\n",
    "\n",
    "n1,n2,n3,n4 = list(map(float,input().strip().split(\" \")))\n",
    "#peso = [2,3,4,1]\n",
    "media = (2*n1 + 3*n2 + 4*n3 + 1*n4)/(2+3+4+1)\n",
    "if media >= 7.0:\n",
    "    print(f'Media: {media:.1f}')\n",
    "    print('Aluno aprovado.')\n",
    "elif media < 5.0:\n",
    "    print(f'Media: {media:.1f}')\n",
    "    print('Aluno reprovado.')\n",
    "elif 5.0 <= media <= 6.9:\n",
    "    print(f'Media: {media:.1f}')\n",
    "    print('Aluno em exame.')\n",
    "    ne = float(input())\n",
    "    print(f'Nota do exame: {ne:.1f}')\n",
    "    mediafinal = (ne + media)/2\n",
    "    if mediafinal >= 5.0:\n",
    "        print('Aluno aprovado.')\n",
    "        print(f'Media final: {mediafinal:.1f}')\n",
    "    elif mediafinal <= 4.9:\n",
    "        print('Aluno reprovado.')\n",
    "        print(f'Media final: {mediafinal:.1f}')\n",
    "\n",
    "        "
   ]
  },
  {
   "cell_type": "code",
   "execution_count": 74,
   "metadata": {},
   "outputs": [
    {
     "name": "stdout",
     "output_type": "stream",
     "text": [
      "Eixo Y\n"
     ]
    }
   ],
   "source": [
    "#beecrowd | 1041 Coordenadas de um Ponto\n",
    "x,y = list(map(float,input().split()))\n",
    "\n",
    "if x == 0 and y == 0:\n",
    "    print('Origem')\n",
    "if x == 0 and y != 0:\n",
    "    print('Eixo Y')\n",
    "elif y == 0 and x != 0:\n",
    "    print('Eixo X')\n",
    "if x > 0 and y > 0 :\n",
    "    print('Q1')\n",
    "elif x < 0 and y > 0:\n",
    "    print('Q2') \n",
    "elif x < 0 and y < 0 :\n",
    "    print('Q3')\n",
    "elif x > 0 and y < 0 :\n",
    "    print('Q4')\n"
   ]
  },
  {
   "cell_type": "code",
   "execution_count": 109,
   "metadata": {},
   "outputs": [
    {
     "name": "stdout",
     "output_type": "stream",
     "text": [
      "-14\n",
      "7\n",
      "21\n",
      "\n",
      "7\n",
      "21\n",
      "-14\n"
     ]
    }
   ],
   "source": [
    "#1042 - Sort Simples\n",
    "\n",
    "lista = list(map(int, input().strip().split()))\n",
    "for v in sorted(lista):\n",
    "    print(v)\n",
    "print()\n",
    "for v in lista:\n",
    "    print(v)"
   ]
  },
  {
   "cell_type": "code",
   "execution_count": 3,
   "metadata": {},
   "outputs": [
    {
     "name": "stdout",
     "output_type": "stream",
     "text": [
      "Perimetro = 12.1\n"
     ]
    }
   ],
   "source": [
    "#beecrowd | 1043 Triângulo\n",
    "a,b,c = map(float,input().strip().split())\n",
    "\n",
    "if abs(b-c) < a < (b+c) and (a-c) <b<(a+c) and (a-b) < c < (a+b):\n",
    "    print(f'Perimetro = {(a+b+c):.1f}')\n",
    "else:\n",
    "    print(f'Area = {((a+b)/2*c):.1f}')"
   ]
  },
  {
   "cell_type": "code",
   "execution_count": 12,
   "metadata": {},
   "outputs": [
    {
     "name": "stdout",
     "output_type": "stream",
     "text": [
      "Nao sao Multiplos\n"
     ]
    }
   ],
   "source": [
    "#beecrowd | 1044 Múltiplos\n",
    "a,b = map(int,input().strip().split(\" \"))\n",
    "if a > b :\n",
    "    if a % b == 0:\n",
    "        print('Sao Multiplos')\n",
    "    else:\n",
    "        print('Nao sao Multiplos')\n",
    "if b > a :\n",
    "    if b % a == 0:\n",
    "        print('Sao Multiplos')\n",
    "    else:\n",
    "        print('Nao sao Multiplos')\n",
    "if a == b:\n",
    "    print('Sao Multiplos')"
   ]
  },
  {
   "cell_type": "code",
   "execution_count": 16,
   "metadata": {},
   "outputs": [
    {
     "name": "stdout",
     "output_type": "stream",
     "text": [
      "TRIANGULO OBTUSANGULO\n",
      "TRIANGULO ISOSCELES\n"
     ]
    }
   ],
   "source": [
    "#beecrowd | 1045 Tipos de Triângulos python\n",
    "\n",
    "a,b,c = map(float,input().strip().split(\" \"))\n",
    "if a>=b and a>=c:\n",
    "    n1 = a\n",
    "    if b >= c:\n",
    "        n2 = b\n",
    "        n3 = c\n",
    "    else:\n",
    "        n2 = c\n",
    "        n3 = b\n",
    "if b>=a and b>=c:\n",
    "    n1=b\n",
    "    if a>=c:\n",
    "        n2 = a\n",
    "        n3 = c\n",
    "    else:\n",
    "        n2=c\n",
    "        n3=a\n",
    "if c>=a and c>=b:\n",
    "    n1=c\n",
    "    if a>=b:\n",
    "        n2=a\n",
    "        n3=b\n",
    "    else:\n",
    "        n2=b\n",
    "        n3=a\n",
    "if a == b and b == c:\n",
    "\n",
    "    n1 = a\n",
    "    n2 = b\n",
    "    n3 = c\n",
    "\n",
    "a = n1\n",
    "b = n2\n",
    "c = n3\n",
    "\n",
    "if a >= (b + c):\n",
    "    print('NAO FORMA TRIANGULO')\n",
    "else:\n",
    "    if (a ** 2) == (b ** 2 + c ** 2):\n",
    "        print('TRIANGULO RETANGULO')\n",
    "    if (a ** 2) > (b ** 2 + c ** 2):\n",
    "        print('TRIANGULO OBTUSANGULO')\n",
    "    if (a ** 2) < (b ** 2 + c ** 2):\n",
    "        print('TRIANGULO ACUTANGULO')\n",
    "    if (a == b == c):\n",
    "        print('TRIANGULO EQUILATERO')\n",
    "    if a == b != c or b == c != a or a == c != b:\n",
    "        print('TRIANGULO ISOSCELES')"
   ]
  },
  {
   "cell_type": "code",
   "execution_count": 6,
   "metadata": {},
   "outputs": [
    {
     "name": "stdout",
     "output_type": "stream",
     "text": [
      "O JOGO DUROU 14 HORA(S)\n"
     ]
    }
   ],
   "source": [
    "#beecrowd | 1046 Tempo de Jogo\n",
    "i,f = map(int,input().strip().split(\" \"))\n",
    "if i > f:\n",
    "    a = 24 - i \n",
    "    h = a + f\n",
    "    print(f'O JOGO DUROU {h} HORA(S)')\n",
    "elif f > i:\n",
    "    h = f - i\n",
    "    print(f'O JOGO DUROU {h} HORA(S)')\n",
    "elif i == f:\n",
    "    h = 24\n",
    "    print(f'O JOGO DUROU {h} HORA(S)')  "
   ]
  },
  {
   "cell_type": "code",
   "execution_count": 7,
   "metadata": {},
   "outputs": [
    {
     "name": "stdout",
     "output_type": "stream",
     "text": [
      "O JOGO DUROU 6 HORA(S) E 0 MINUTO(S)\n"
     ]
    }
   ],
   "source": [
    "#beecrowd | 1047 Tempo de Jogo com Minutos\n",
    "hi,mi,hf,mf = map(int,input().strip().split(\" \"))\n",
    "if hi<hf:\n",
    "   hora = hf - hi\n",
    "   if mi<mf:\n",
    "      minuto = mf - mi\n",
    "   if mi > mf:\n",
    "      hora = hora - 1\n",
    "      minuto = (60-mi)+mf\n",
    "   if mi == mf:\n",
    "      minuto = 0\n",
    "if hi > hf:\n",
    "   hora = (24-hi)+hf\n",
    "   if mi < mf:\n",
    "      minuto = mf - mi\n",
    "   if mi > mf:\n",
    "      hora = hora - 1\n",
    "      minuto = (60-mi)+mf\n",
    "   if mi == mf:\n",
    "      minuto = 0\n",
    "if hi == hf:\n",
    "   if mi < mf:\n",
    "      minuto = mf - mi\n",
    "      hora = 0\n",
    "   if mi > mf:\n",
    "      minuto = (60-mi)+mf\n",
    "      hora = 23\n",
    "   if mi == mf:\n",
    "      hora = 24\n",
    "      minuto = 0\n",
    "print(f'O JOGO DUROU {hora} HORA(S) E {minuto} MINUTO(S)')"
   ]
  },
  {
   "cell_type": "code",
   "execution_count": 44,
   "metadata": {},
   "outputs": [
    {
     "name": "stdout",
     "output_type": "stream",
     "text": [
      "Novo salario: 2140.00\n",
      "Reajuste ganho: 140.00\n",
      "Em percentual: 7 %\n"
     ]
    }
   ],
   "source": [
    "#URI Online Judge | 1048 Aumento de Salário\n",
    "salario = float(input())\n",
    "\n",
    "if salario >= 400.00:\n",
    "    pcent = 15\n",
    "    reajuste = salario * 0.15\n",
    "    novo = reajuste+salario\n",
    "\n",
    "if 400.01 <= salario <= 800.00:\n",
    "    pcent = 12\n",
    "    reajuste =salario * 0.12\n",
    "    novo = reajuste+salario\n",
    "\n",
    "if 800.01 <= salario <= 1200.00:\n",
    "    pcent = 10\n",
    "    reajuste =salario * 0.10\n",
    "    novo = reajuste+salario\n",
    "\n",
    "if 1200.01 <= salario <= 2000.00:\n",
    "    pcent = 7\n",
    "    reajuste = salario * 0.07\n",
    "    novo = reajuste+salario\n",
    "\n",
    "if  salario > 2000.00:\n",
    "    pcent = 4\n",
    "    reajuste =salario * 0.04\n",
    "    novo = reajuste+salario\n",
    "print(f'Novo salario: {novo:.2f}')\n",
    "print(f'Reajuste ganho: {reajuste:.2f}')\n",
    "print(f'Em percentual: {pcent} %')\n",
    "\n"
   ]
  },
  {
   "cell_type": "code",
   "execution_count": 33,
   "metadata": {},
   "outputs": [
    {
     "name": "stdout",
     "output_type": "stream",
     "text": [
      "homem\n"
     ]
    }
   ],
   "source": [
    "#beecrowd | 1049 Animal\n",
    "a = str(input())\n",
    "b = str(input())\n",
    "c = str(input())\n",
    "if a == ('vertebrado'):\n",
    "    if b == ('ave'):\n",
    "        if c == ('carnivoro'):\n",
    "            print('aguia')\n",
    "        elif c == ('onivoro'):\n",
    "            print('pomba')\n",
    "    elif b == ('mamifero'):\n",
    "        if c == ('onivoro'):\n",
    "            print('homem')\n",
    "        elif c == ('herbivoro'):\n",
    "            print('vaca')\n",
    "elif a == ('invertebrado'):\n",
    "    if b == ('inseto'):\n",
    "        if c == ('hematofago'):\n",
    "            print('pulga')\n",
    "        elif c == ('herbivoro'):\n",
    "            print('lagarta')\n",
    "    elif b == ('anelideo'):\n",
    "        if c == ('hematofago'):\n",
    "            print('sanguessuga')\n",
    "        elif c == ('onivoro'):\n",
    "            print('minhoca')"
   ]
  },
  {
   "cell_type": "code",
   "execution_count": 35,
   "metadata": {},
   "outputs": [
    {
     "name": "stdout",
     "output_type": "stream",
     "text": [
      "DDD nao cadastrado\n"
     ]
    }
   ],
   "source": [
    "#beecrowd | 1050 DDD\n",
    "\n",
    "x = int(input())\n",
    "lista = [61,71,11,21,32,19,27,31]\n",
    "if x == 61:\n",
    "    print('Brasilia')\n",
    "if x ==71:\n",
    "    print('Salvador')\n",
    "if x ==11:\n",
    "    print('Sao Paulo')\n",
    "if x ==21:\n",
    "    print('Rio de Janeiro')\n",
    "if x ==32:\n",
    "    print('Juiz de Fora')\n",
    "if x ==19:\n",
    "    print('Campinas')\n",
    "if x ==27:\n",
    "    print('Vitoria')\n",
    "if x ==31:\n",
    "    print('Belo Horizonte')\n",
    "if x != 61 and  x != 71 and x != 11 and x != 21 and x != 32 and x != 19 and x != 27 and x != 31:\n",
    "    print('DDD nao cadastrado')\n"
   ]
  },
  {
   "cell_type": "code",
   "execution_count": 19,
   "metadata": {},
   "outputs": [
    {
     "name": "stdout",
     "output_type": "stream",
     "text": [
      "R$ 80.00\n"
     ]
    }
   ],
   "source": [
    "# beecrowd | 1051 Imposto de Renda\n",
    "\n",
    "renda = float(input())\n",
    "if renda <= 2000:\n",
    "    print('Isento')\n",
    "else:\n",
    "    if renda <= 3000.00:\n",
    "        imposto = (renda - 2000)* 0.08\n",
    "    elif renda <= 4500.00:\n",
    "        imposto = 1000*0.08+(renda - 3000)*0.18\n",
    "    elif renda > 4500:\n",
    "        imposto = 1000.00 *0.08 + 1500.0 * 0.18 + (renda -4500 )*0.28\n",
    "    print(f'R$ {imposto:.2f}')"
   ]
  },
  {
   "attachments": {},
   "cell_type": "markdown",
   "metadata": {},
   "source": [
    "# TESTE"
   ]
  },
  {
   "cell_type": "code",
   "execution_count": 14,
   "metadata": {},
   "outputs": [
    {
     "data": {
      "text/plain": [
       "<function __main__.buscar_dados()>"
      ]
     },
     "execution_count": 14,
     "metadata": {},
     "output_type": "execute_result"
    }
   ],
   "source": [
    "import requests\n",
    "\n",
    "def buscar_dados():\n",
    "    request = requests.get(\"http://sifserver.gonsys.com:15000/Sif/api/rps/getdadosrps\")\n",
    "    display(request)\n",
    "buscar_dados\n"
   ]
  }
 ],
 "metadata": {
  "kernelspec": {
   "display_name": "Python 3.10.7 ('.venv': venv)",
   "language": "python",
   "name": "python3"
  },
  "language_info": {
   "codemirror_mode": {
    "name": "ipython",
    "version": 3
   },
   "file_extension": ".py",
   "mimetype": "text/x-python",
   "name": "python",
   "nbconvert_exporter": "python",
   "pygments_lexer": "ipython3",
   "version": "3.10.7"
  },
  "orig_nbformat": 4,
  "vscode": {
   "interpreter": {
    "hash": "f78d38f97fb59a8d2023d55adb2de6ec8961d438de8522c6f0b877b8bbbd6bc7"
   }
  }
 },
 "nbformat": 4,
 "nbformat_minor": 2
}
